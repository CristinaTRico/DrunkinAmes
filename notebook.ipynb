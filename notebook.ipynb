{
 "cells": [
  {
   "cell_type": "code",
   "execution_count": 1,
   "metadata": {},
   "outputs": [
    {
     "name": "stdout",
     "output_type": "stream",
     "text": [
      "   year  month  day  hour location gender   Res1   Res2\n",
      "0  2017     12   17     1  Ames PD      M  0.046  0.046\n",
      "1  2017     12   14     3   ISU PD      F  0.121  0.120\n",
      "2  2017     12   10     5   ISU PD      F  0.068  0.067\n",
      "3  2017     12   10     3   ISU PD      F  0.077  0.077\n",
      "4  2017     12    9     2   ISU PD      M  0.085  0.084\n"
     ]
    },
    {
     "data": {
      "text/plain": [
       "2013    397\n",
       "2014    344\n",
       "2015    286\n",
       "2016    269\n",
       "2017    260\n",
       "Name: year, dtype: int64"
      ]
     },
     "execution_count": 1,
     "metadata": {},
     "output_type": "execute_result"
    }
   ],
   "source": [
    "# import pandas\n",
    "import pandas as pd\n",
    "\n",
    "# read the data into your workspace\n",
    "ba_data = pd.read_csv('datasets/breath_alcohol_ames.csv')\n",
    "\n",
    "# quickly inspect the data\n",
    "print(ba_data.head())\n",
    "\n",
    "# obtain counts for each year \n",
    "ba_year = ba_data['year'].value_counts()\n",
    "ba_year"
   ]
  },
  {
   "cell_type": "code",
   "execution_count": 2,
   "metadata": {},
   "outputs": [
    {
     "data": {
      "text/plain": [
       "ISU PD     940\n",
       "Ames PD    616\n",
       "Name: location, dtype: int64"
      ]
     },
     "execution_count": 2,
     "metadata": {},
     "output_type": "execute_result"
    }
   ],
   "source": [
    "# use value_counts to tally up the totals for each department\n",
    "pds = ba_data['location'].value_counts()\n",
    "pds"
   ]
  },
  {
   "cell_type": "code",
   "execution_count": null,
   "metadata": {},
   "outputs": [],
   "source": []
  }
 ],
 "metadata": {
  "kernelspec": {
   "display_name": "Python 3",
   "language": "python",
   "name": "python3"
  },
  "language_info": {
   "codemirror_mode": {
    "name": "ipython",
    "version": 3
   },
   "file_extension": ".py",
   "mimetype": "text/x-python",
   "name": "python",
   "nbconvert_exporter": "python",
   "pygments_lexer": "ipython3",
   "version": "3.7.3"
  }
 },
 "nbformat": 4,
 "nbformat_minor": 4
}
